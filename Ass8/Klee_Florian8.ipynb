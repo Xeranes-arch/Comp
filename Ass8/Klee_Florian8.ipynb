{
 "cells": [
  {
   "cell_type": "code",
   "execution_count": 16,
   "metadata": {},
   "outputs": [],
   "source": [
    "import numpy as np\n",
    "from scipy.linalg import lu\n",
    "import matplotlib.pyplot as plt\n",
    "\n",
    "np.seed = 42"
   ]
  },
  {
   "cell_type": "code",
   "execution_count": 17,
   "metadata": {},
   "outputs": [],
   "source": [
    "# Examples\n",
    "A = np.matrix([[7, 3, -1, 2], [3, 8, 1, -4], [-1, 1, 4, -1], [2, -4, -1, 6]]).astype(float)\n",
    "b = np.matrix([[1], [2], [3], [4]]).astype(float)\n",
    "\n",
    "# List of random test matrices in increasing size\n",
    "xax = (\n",
    "    list(np.arange(1, 11))\n",
    "    + list(np.arange(15, 36, 5))\n",
    "    + list(np.arange(40, 51, 10))\n",
    "    + [100]\n",
    ")\n",
    "lst = []\n",
    "for i in xax:\n",
    "    lst.append(np.matrix(np.random.randint(0, 9, size=(i, i))).astype(float))\n",
    "\n",
    "# List of random test matrices in increasing size for scipy because I want a smooth curve.\n",
    "xax2 = list(np.arange(1, 100))\n",
    "lst2 = []\n",
    "for i in xax2:\n",
    "    lst2.append(np.matrix(np.random.randint(0, 9, size=(i, i))).astype(float))"
   ]
  },
  {
   "cell_type": "code",
   "execution_count": 18,
   "metadata": {},
   "outputs": [],
   "source": [
    "def updaterow_U(M, L, U, i, n):\n",
    "    for j in range(i, n):\n",
    "        U[i, j] = M[i, j]\n",
    "        for k in range(i):\n",
    "            U[i, j] -= L[i, k] * U[k, j]\n",
    "    return U\n",
    "\n",
    "\n",
    "def updatecol_L(M, L, U, i, n):\n",
    "    for j in range(i + 1, n):\n",
    "        L[j, i] = M[j, i]\n",
    "        for k in range(i):\n",
    "            L[j, i] -= L[j, k] * U[k, i]\n",
    "        L[j, i] /= U[i, i]\n",
    "    return L\n",
    "\n",
    "\n",
    "def LU(M):\n",
    "    \"The main function. Rather self explanatory and compact, but not readable. Math. It is what it is.\"\n",
    "    n = np.shape(M)[0]\n",
    "    L = np.identity(n)\n",
    "    U = np.zeros_like(M)\n",
    "    for i in range(n):\n",
    "        U = updaterow_U(M, L, U, i, n)\n",
    "        L = updatecol_L(M, L, U, i, n)\n",
    "    return L, U\n",
    "\n",
    "\n",
    "L2, U2 = LU(A)"
   ]
  },
  {
   "cell_type": "code",
   "execution_count": 19,
   "metadata": {},
   "outputs": [],
   "source": [
    "def LU_comprehensible_but_hardcoded(M):\n",
    "    \"\"\"This guy doesn't optimize for already established cells and just calculates them again, but that makes for... decent readability.\"\"\"\n",
    "    n = np.shape(M)[0]\n",
    "    L = np.identity(n)\n",
    "    U = np.zeros_like(M)\n",
    "    U[0, :] = M[0, :]\n",
    "    for i in range(n):\n",
    "        L[i, 0] = M[i, 0] / U[0, 0]\n",
    "    for i in range(n):\n",
    "        U[1, i] = M[1, i] - L[1, 0] * U[0, i]\n",
    "    for i in range(n):\n",
    "        L[i, 1] = (M[i, 1] - L[i, 0] * U[0, 1]) / U[1, 1]\n",
    "    for i in range(n):\n",
    "        U[2, i] = M[2, i] - L[2, 0] * U[0, i] - L[2, 1] * U[1, i]\n",
    "    for i in range(n):\n",
    "        L[i, 2] = (M[i, 2] - L[i, 0] * U[0, 2] - L[i, 1] * U[1, 2]) / U[2, 2]\n",
    "    for i in range(n):\n",
    "        U[3, i] = M[3, i] - L[3, 0] * U[0, i] - L[3, 1] * U[1, i] - L[3, 2] * U[2, i]\n",
    "\n",
    "    return L, U\n",
    "\n",
    "\n",
    "L1, U1 = LU_comprehensible_but_hardcoded(A)"
   ]
  },
  {
   "cell_type": "markdown",
   "metadata": {},
   "source": [
    "## Final Result."
   ]
  },
  {
   "cell_type": "code",
   "execution_count": 20,
   "metadata": {},
   "outputs": [
    {
     "name": "stdout",
     "output_type": "stream",
     "text": [
      "x:\n",
      " [[-1.27619048]\n",
      " [ 1.87619048]\n",
      " [ 0.57142857]\n",
      " [ 2.43809524]]\n",
      "b reconstructed:\n",
      " [[1.]\n",
      " [2.]\n",
      " [3.]\n",
      " [4.]]\n"
     ]
    }
   ],
   "source": [
    "y = np.linalg.solve(L2, b)\n",
    "x = np.linalg.solve(U2, y)\n",
    "\n",
    "print(\"x:\\n\", x)\n",
    "print(\"b reconstructed:\\n\", np.matmul(A, x))"
   ]
  },
  {
   "cell_type": "markdown",
   "metadata": {},
   "source": [
    "### Timings."
   ]
  },
  {
   "cell_type": "markdown",
   "metadata": {},
   "source": [
    "This one takes a while. ca.30s. You can take out the dim = 100 matrix up top. That'll make it faster."
   ]
  },
  {
   "cell_type": "code",
   "execution_count": 21,
   "metadata": {},
   "outputs": [
    {
     "name": "stdout",
     "output_type": "stream",
     "text": [
      "9.26 µs ± 1.94 µs per loop (mean ± std. dev. of 7 runs, 10 loops each)\n",
      "13 µs ± 1.19 µs per loop (mean ± std. dev. of 7 runs, 10 loops each)\n",
      "38.6 µs ± 16.9 µs per loop (mean ± std. dev. of 7 runs, 10 loops each)\n",
      "35.8 µs ± 691 ns per loop (mean ± std. dev. of 7 runs, 10 loops each)\n",
      "63.1 µs ± 6.38 µs per loop (mean ± std. dev. of 7 runs, 10 loops each)\n",
      "106 µs ± 10 µs per loop (mean ± std. dev. of 7 runs, 10 loops each)\n",
      "The slowest run took 12.54 times longer than the fastest. This could mean that an intermediate result is being cached.\n",
      "365 µs ± 507 µs per loop (mean ± std. dev. of 7 runs, 10 loops each)\n",
      "410 µs ± 180 µs per loop (mean ± std. dev. of 7 runs, 10 loops each)\n",
      "The slowest run took 6.50 times longer than the fastest. This could mean that an intermediate result is being cached.\n",
      "668 µs ± 565 µs per loop (mean ± std. dev. of 7 runs, 10 loops each)\n",
      "951 µs ± 411 µs per loop (mean ± std. dev. of 7 runs, 10 loops each)\n"
     ]
    },
    {
     "name": "stderr",
     "output_type": "stream",
     "text": [
      "C:\\Users\\Xeonis7\\AppData\\Local\\Temp\\ipykernel_11576\\1820361530.py:13: RuntimeWarning: divide by zero encountered in scalar divide\n",
      "  L[j, i] /= U[i, i]\n",
      "C:\\Users\\Xeonis7\\AppData\\Local\\Temp\\ipykernel_11576\\1820361530.py:13: RuntimeWarning: invalid value encountered in scalar divide\n",
      "  L[j, i] /= U[i, i]\n",
      "C:\\Users\\Xeonis7\\AppData\\Local\\Temp\\ipykernel_11576\\1820361530.py:5: RuntimeWarning: invalid value encountered in scalar multiply\n",
      "  U[i,j] -= L[i, k] * U[k, j]\n",
      "C:\\Users\\Xeonis7\\AppData\\Local\\Temp\\ipykernel_11576\\1820361530.py:12: RuntimeWarning: invalid value encountered in scalar multiply\n",
      "  L[j, i] -= L[j, k] * U[k, i]\n"
     ]
    },
    {
     "name": "stdout",
     "output_type": "stream",
     "text": [
      "1.66 ms ± 922 µs per loop (mean ± std. dev. of 7 runs, 10 loops each)\n",
      "2.43 ms ± 19.9 µs per loop (mean ± std. dev. of 7 runs, 10 loops each)\n",
      "5.69 ms ± 545 µs per loop (mean ± std. dev. of 7 runs, 10 loops each)\n",
      "8.11 ms ± 141 µs per loop (mean ± std. dev. of 7 runs, 10 loops each)\n",
      "13 ms ± 306 µs per loop (mean ± std. dev. of 7 runs, 10 loops each)\n",
      "23.2 ms ± 4.94 ms per loop (mean ± std. dev. of 7 runs, 10 loops each)\n",
      "37.9 ms ± 1.31 ms per loop (mean ± std. dev. of 7 runs, 10 loops each)\n",
      "279 ms ± 2.58 ms per loop (mean ± std. dev. of 7 runs, 10 loops each)\n"
     ]
    }
   ],
   "source": [
    "# My function\n",
    "res = []\n",
    "for i in lst:\n",
    "    a = %timeit -n 10 -o LU(i)\n",
    "    res.append(a)"
   ]
  },
  {
   "cell_type": "code",
   "execution_count": 22,
   "metadata": {},
   "outputs": [
    {
     "name": "stdout",
     "output_type": "stream",
     "text": [
      "8.23 µs ± 2.35 µs per loop (mean ± std. dev. of 7 runs, 10 loops each)\n",
      "11.2 µs ± 2.19 µs per loop (mean ± std. dev. of 7 runs, 10 loops each)\n",
      "15 µs ± 1.74 µs per loop (mean ± std. dev. of 7 runs, 10 loops each)\n",
      "20 µs ± 1.69 µs per loop (mean ± std. dev. of 7 runs, 10 loops each)\n",
      "34.1 µs ± 14 µs per loop (mean ± std. dev. of 7 runs, 10 loops each)\n",
      "19.3 µs ± 3.02 µs per loop (mean ± std. dev. of 7 runs, 10 loops each)\n",
      "19.6 µs ± 2.84 µs per loop (mean ± std. dev. of 7 runs, 10 loops each)\n",
      "26.2 µs ± 9.56 µs per loop (mean ± std. dev. of 7 runs, 10 loops each)\n",
      "21.9 µs ± 3.11 µs per loop (mean ± std. dev. of 7 runs, 10 loops each)\n",
      "24 µs ± 5.17 µs per loop (mean ± std. dev. of 7 runs, 10 loops each)\n",
      "25.2 µs ± 7.12 µs per loop (mean ± std. dev. of 7 runs, 10 loops each)\n",
      "23.8 µs ± 1.37 µs per loop (mean ± std. dev. of 7 runs, 10 loops each)\n",
      "28 µs ± 3.38 µs per loop (mean ± std. dev. of 7 runs, 10 loops each)\n",
      "25.2 µs ± 1.35 µs per loop (mean ± std. dev. of 7 runs, 10 loops each)\n",
      "26.1 µs ± 1.29 µs per loop (mean ± std. dev. of 7 runs, 10 loops each)\n",
      "34.7 µs ± 7.01 µs per loop (mean ± std. dev. of 7 runs, 10 loops each)\n",
      "30.3 µs ± 1.32 µs per loop (mean ± std. dev. of 7 runs, 10 loops each)\n",
      "37.5 µs ± 6.88 µs per loop (mean ± std. dev. of 7 runs, 10 loops each)\n",
      "33.9 µs ± 1.34 µs per loop (mean ± std. dev. of 7 runs, 10 loops each)\n",
      "34.5 µs ± 2.87 µs per loop (mean ± std. dev. of 7 runs, 10 loops each)\n",
      "37.7 µs ± 4.56 µs per loop (mean ± std. dev. of 7 runs, 10 loops each)\n",
      "40.3 µs ± 3.78 µs per loop (mean ± std. dev. of 7 runs, 10 loops each)\n",
      "39.9 µs ± 3.74 µs per loop (mean ± std. dev. of 7 runs, 10 loops each)\n",
      "42.6 µs ± 2.08 µs per loop (mean ± std. dev. of 7 runs, 10 loops each)\n",
      "44.5 µs ± 2.25 µs per loop (mean ± std. dev. of 7 runs, 10 loops each)\n",
      "50.2 µs ± 4.12 µs per loop (mean ± std. dev. of 7 runs, 10 loops each)\n",
      "46.1 µs ± 1.25 µs per loop (mean ± std. dev. of 7 runs, 10 loops each)\n",
      "55.1 µs ± 9.95 µs per loop (mean ± std. dev. of 7 runs, 10 loops each)\n",
      "53.8 µs ± 5.38 µs per loop (mean ± std. dev. of 7 runs, 10 loops each)\n",
      "53.9 µs ± 6.41 µs per loop (mean ± std. dev. of 7 runs, 10 loops each)\n",
      "59.4 µs ± 6.86 µs per loop (mean ± std. dev. of 7 runs, 10 loops each)\n",
      "56.2 µs ± 5.86 µs per loop (mean ± std. dev. of 7 runs, 10 loops each)\n",
      "62.8 µs ± 5.82 µs per loop (mean ± std. dev. of 7 runs, 10 loops each)\n",
      "61 µs ± 6.24 µs per loop (mean ± std. dev. of 7 runs, 10 loops each)\n",
      "63.9 µs ± 5.83 µs per loop (mean ± std. dev. of 7 runs, 10 loops each)\n",
      "60.2 µs ± 2.88 µs per loop (mean ± std. dev. of 7 runs, 10 loops each)\n",
      "64.7 µs ± 8.26 µs per loop (mean ± std. dev. of 7 runs, 10 loops each)\n",
      "71.2 µs ± 12 µs per loop (mean ± std. dev. of 7 runs, 10 loops each)\n",
      "71 µs ± 9.75 µs per loop (mean ± std. dev. of 7 runs, 10 loops each)\n",
      "67.8 µs ± 6.99 µs per loop (mean ± std. dev. of 7 runs, 10 loops each)\n",
      "69.5 µs ± 4.54 µs per loop (mean ± std. dev. of 7 runs, 10 loops each)\n",
      "77.8 µs ± 7.64 µs per loop (mean ± std. dev. of 7 runs, 10 loops each)\n",
      "80.5 µs ± 4.26 µs per loop (mean ± std. dev. of 7 runs, 10 loops each)\n",
      "79.9 µs ± 5.5 µs per loop (mean ± std. dev. of 7 runs, 10 loops each)\n",
      "81.3 µs ± 7.17 µs per loop (mean ± std. dev. of 7 runs, 10 loops each)\n",
      "82 µs ± 7.74 µs per loop (mean ± std. dev. of 7 runs, 10 loops each)\n",
      "85.9 µs ± 9.6 µs per loop (mean ± std. dev. of 7 runs, 10 loops each)\n",
      "87 µs ± 7.84 µs per loop (mean ± std. dev. of 7 runs, 10 loops each)\n",
      "99 µs ± 20.8 µs per loop (mean ± std. dev. of 7 runs, 10 loops each)\n",
      "95.1 µs ± 12.3 µs per loop (mean ± std. dev. of 7 runs, 10 loops each)\n",
      "95.5 µs ± 7.31 µs per loop (mean ± std. dev. of 7 runs, 10 loops each)\n",
      "98.2 µs ± 8.12 µs per loop (mean ± std. dev. of 7 runs, 10 loops each)\n",
      "95.6 µs ± 9.17 µs per loop (mean ± std. dev. of 7 runs, 10 loops each)\n",
      "105 µs ± 18.3 µs per loop (mean ± std. dev. of 7 runs, 10 loops each)\n",
      "119 µs ± 17.1 µs per loop (mean ± std. dev. of 7 runs, 10 loops each)\n",
      "108 µs ± 9.01 µs per loop (mean ± std. dev. of 7 runs, 10 loops each)\n",
      "131 µs ± 24.5 µs per loop (mean ± std. dev. of 7 runs, 10 loops each)\n",
      "151 µs ± 42.1 µs per loop (mean ± std. dev. of 7 runs, 10 loops each)\n",
      "129 µs ± 25.9 µs per loop (mean ± std. dev. of 7 runs, 10 loops each)\n",
      "130 µs ± 35.6 µs per loop (mean ± std. dev. of 7 runs, 10 loops each)\n",
      "121 µs ± 15.5 µs per loop (mean ± std. dev. of 7 runs, 10 loops each)\n",
      "136 µs ± 33.3 µs per loop (mean ± std. dev. of 7 runs, 10 loops each)\n",
      "142 µs ± 26.7 µs per loop (mean ± std. dev. of 7 runs, 10 loops each)\n",
      "146 µs ± 29.9 µs per loop (mean ± std. dev. of 7 runs, 10 loops each)\n",
      "139 µs ± 21.7 µs per loop (mean ± std. dev. of 7 runs, 10 loops each)\n",
      "134 µs ± 20.7 µs per loop (mean ± std. dev. of 7 runs, 10 loops each)\n",
      "135 µs ± 16.6 µs per loop (mean ± std. dev. of 7 runs, 10 loops each)\n",
      "142 µs ± 23.5 µs per loop (mean ± std. dev. of 7 runs, 10 loops each)\n",
      "144 µs ± 24.6 µs per loop (mean ± std. dev. of 7 runs, 10 loops each)\n",
      "158 µs ± 31.3 µs per loop (mean ± std. dev. of 7 runs, 10 loops each)\n",
      "160 µs ± 27.4 µs per loop (mean ± std. dev. of 7 runs, 10 loops each)\n",
      "144 µs ± 15 µs per loop (mean ± std. dev. of 7 runs, 10 loops each)\n",
      "153 µs ± 13.8 µs per loop (mean ± std. dev. of 7 runs, 10 loops each)\n",
      "136 µs ± 7.7 µs per loop (mean ± std. dev. of 7 runs, 10 loops each)\n",
      "166 µs ± 19.3 µs per loop (mean ± std. dev. of 7 runs, 10 loops each)\n",
      "157 µs ± 17.5 µs per loop (mean ± std. dev. of 7 runs, 10 loops each)\n",
      "153 µs ± 10.5 µs per loop (mean ± std. dev. of 7 runs, 10 loops each)\n",
      "156 µs ± 19.8 µs per loop (mean ± std. dev. of 7 runs, 10 loops each)\n",
      "174 µs ± 25.5 µs per loop (mean ± std. dev. of 7 runs, 10 loops each)\n",
      "178 µs ± 31.7 µs per loop (mean ± std. dev. of 7 runs, 10 loops each)\n",
      "172 µs ± 25.7 µs per loop (mean ± std. dev. of 7 runs, 10 loops each)\n",
      "183 µs ± 33.9 µs per loop (mean ± std. dev. of 7 runs, 10 loops each)\n",
      "177 µs ± 26.2 µs per loop (mean ± std. dev. of 7 runs, 10 loops each)\n",
      "194 µs ± 37.6 µs per loop (mean ± std. dev. of 7 runs, 10 loops each)\n",
      "200 µs ± 29.1 µs per loop (mean ± std. dev. of 7 runs, 10 loops each)\n",
      "189 µs ± 18.2 µs per loop (mean ± std. dev. of 7 runs, 10 loops each)\n",
      "190 µs ± 14.6 µs per loop (mean ± std. dev. of 7 runs, 10 loops each)\n",
      "185 µs ± 22 µs per loop (mean ± std. dev. of 7 runs, 10 loops each)\n",
      "199 µs ± 39.2 µs per loop (mean ± std. dev. of 7 runs, 10 loops each)\n",
      "191 µs ± 15 µs per loop (mean ± std. dev. of 7 runs, 10 loops each)\n",
      "188 µs ± 9.59 µs per loop (mean ± std. dev. of 7 runs, 10 loops each)\n",
      "190 µs ± 7.22 µs per loop (mean ± std. dev. of 7 runs, 10 loops each)\n",
      "193 µs ± 6.42 µs per loop (mean ± std. dev. of 7 runs, 10 loops each)\n",
      "206 µs ± 11 µs per loop (mean ± std. dev. of 7 runs, 10 loops each)\n",
      "205 µs ± 10.2 µs per loop (mean ± std. dev. of 7 runs, 10 loops each)\n",
      "201 µs ± 26.9 µs per loop (mean ± std. dev. of 7 runs, 10 loops each)\n",
      "198 µs ± 13.1 µs per loop (mean ± std. dev. of 7 runs, 10 loops each)\n",
      "212 µs ± 9.17 µs per loop (mean ± std. dev. of 7 runs, 10 loops each)\n",
      "215 µs ± 11.5 µs per loop (mean ± std. dev. of 7 runs, 10 loops each)\n"
     ]
    }
   ],
   "source": [
    "# Scipy's magic\n",
    "res2 = []\n",
    "for i in lst2:\n",
    "    a = %timeit -n 10 -o lu(i, permute_l=True)\n",
    "    res2.append(a)"
   ]
  },
  {
   "cell_type": "code",
   "execution_count": 25,
   "metadata": {},
   "outputs": [
    {
     "name": "stdout",
     "output_type": "stream",
     "text": [
      "[-7.27276096e-12  8.83543516e-09  1.12007478e-06  8.38157033e-06]\n"
     ]
    },
    {
     "data": {
      "text/plain": [
       "<matplotlib.legend.Legend at 0x1f44b2edeb0>"
      ]
     },
     "execution_count": 25,
     "metadata": {},
     "output_type": "execute_result"
    },
    {
     "data": {
      "image/png": "[encoded data removed]",
      "text/plain": [
       "<Figure size 640x480 with 1 Axes>"
      ]
     },
     "metadata": {},
     "output_type": "display_data"
    }
   ],
   "source": [
    "nres = [i.best for i in res]\n",
    "\n",
    "nres2 = [i.best for i in res2]\n",
    "xnew = np.linspace(xax2[0], xax2[-1], 1000)\n",
    "fit2 = np.polyfit(xax2, nres2, 3)\n",
    "func2 = np.poly1d(fit2)\n",
    "\n",
    "\n",
    "f = max(nres2) / max(xnew)\n",
    "y1 = [i * f for i in xnew]\n",
    "\n",
    "y2 = [i**2 for i in xnew]\n",
    "f = max(nres) / max(y2)\n",
    "y2 = [i * f for i in y2]\n",
    "\n",
    "y3 = [i**3 for i in xnew]\n",
    "f = max(nres) / max(y3)\n",
    "y3 = [i * f for i in y3]\n",
    "\n",
    "plt.plot(xax, nres)\n",
    "plt.plot(xax2, nres2)\n",
    "plt.plot(xnew, y1)\n",
    "plt.plot(xnew, y2)\n",
    "plt.plot(xnew, y3)\n",
    "plt.loglog()\n",
    "plt.xlabel(\"dimension n of matrix\")\n",
    "plt.ylabel(\"time in [s]\")\n",
    "plt.title(\"log-log fit of the complexity, which is n^3\")\n",
    "plt.legend([\"measured times\", \"scipy_lu\", \"n\", \"n^2\", \"n^3\"])"
   ]
  },
  {
   "cell_type": "code",
   "execution_count": 24,
   "metadata": {},
   "outputs": [
    {
     "name": "stdout",
     "output_type": "stream",
     "text": [
      "(array([[ 1.,  0.,  0.,  0.],\n",
      "       [nan,  1.,  0.,  0.],\n",
      "       [nan, nan,  1.,  0.],\n",
      "       [inf, nan, nan,  1.]]), array([[ 0.,  0.,  0.,  1.],\n",
      "       [ 0., nan, nan, nan],\n",
      "       [ 0.,  0., nan, nan],\n",
      "       [ 0.,  0.,  0., nan]]))\n"
     ]
    },
    {
     "name": "stderr",
     "output_type": "stream",
     "text": [
      "C:\\Users\\Xeonis7\\AppData\\Local\\Temp\\ipykernel_11576\\1820361530.py:13: RuntimeWarning: invalid value encountered in scalar divide\n",
      "  L[j, i] /= U[i, i]\n",
      "C:\\Users\\Xeonis7\\AppData\\Local\\Temp\\ipykernel_11576\\1820361530.py:13: RuntimeWarning: divide by zero encountered in scalar divide\n",
      "  L[j, i] /= U[i, i]\n",
      "C:\\Users\\Xeonis7\\AppData\\Local\\Temp\\ipykernel_11576\\1820361530.py:12: RuntimeWarning: invalid value encountered in scalar multiply\n",
      "  L[j, i] -= L[j, k] * U[k, i]\n"
     ]
    }
   ],
   "source": [
    "F = np.flip(np.identity(4), axis=0)\n",
    "print(LU(F))"
   ]
  },
  {
   "cell_type": "markdown",
   "metadata": {},
   "source": [
    "## It's not difficult to see, that zero divisions can happen, even though the problem is full rank and therefore solvable.\n",
    "Pivoting is required to solve this problem. This is done by always making sure, that the next step in the prozess uses the highest number in the column, by flipping entire rows of the matrix wiht one another to guarantee this."
   ]
  }
 ],
 "metadata": {
  "kernelspec": {
   "display_name": "Python 3",
   "language": "python",
   "name": "python3"
  },
  "language_info": {
   "codemirror_mode": {
    "name": "ipython",
    "version": 3
   },
   "file_extension": ".py",
   "mimetype": "text/x-python",
   "name": "python",
   "nbconvert_exporter": "python",
   "pygments_lexer": "ipython3",
   "version": "3.12.0"
  }
 },
 "nbformat": 4,
 "nbformat_minor": 2
}
